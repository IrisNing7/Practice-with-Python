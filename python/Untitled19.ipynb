{
 "cells": [
  {
   "cell_type": "markdown",
   "metadata": {},
   "source": [
    "# PBL6"
   ]
  },
  {
   "cell_type": "code",
   "execution_count": 5,
   "metadata": {},
   "outputs": [
    {
     "ename": "SyntaxError",
     "evalue": "invalid syntax (<ipython-input-5-bf4427dab609>, line 6)",
     "output_type": "error",
     "traceback": [
      "\u001b[0;36m  File \u001b[0;32m\"<ipython-input-5-bf4427dab609>\"\u001b[0;36m, line \u001b[0;32m6\u001b[0m\n\u001b[0;31m    if Maths >= 60 and Phy >= 50 and Chem >= 40 and ( (Maths+Phy+Chem)>= 200  or (maths+Phy) >= 150):\u001b[0m\n\u001b[0m                                                                                                    ^\u001b[0m\n\u001b[0;31mSyntaxError\u001b[0m\u001b[0;31m:\u001b[0m invalid syntax\n"
     ]
    }
   ],
   "source": [
    "input(\" Please enter the marks obtained in maths, physics and chem\")\n",
    "Phy = int(input(\"Phy marks\"))\n",
    "Chem  = int(input(\"Chem marks\"))\n",
    "Maths = int(input(\" Math marks\")\n",
    "\n",
    "if Maths >= 60 and Phy >= 50 and Chem >= 40 and ( (Maths+Phy+Chem)>= 200  or (maths+Phy) >= 150):\n",
    "  print(\"Eligible for admission\")\n",
    "else:\n",
    "  print(\" Not eligible\")\n"
   ]
  },
  {
   "cell_type": "markdown",
   "metadata": {},
   "source": [
    "# PBL7"
   ]
  },
  {
   "cell_type": "code",
   "execution_count": 18,
   "metadata": {},
   "outputs": [
    {
     "name": "stdout",
     "output_type": "stream",
     "text": [
      "0\n",
      "1\n",
      "1\n",
      "2\n",
      "3\n",
      "5\n",
      "8\n",
      "13\n",
      "21\n",
      "34\n",
      "55\n",
      "89\n",
      "144\n",
      "233\n",
      "377\n",
      "610\n",
      "987\n",
      "1597\n",
      "2584\n",
      "4181\n",
      "6765\n",
      "10946\n",
      "17711\n",
      "28657\n",
      "46368\n",
      "75025\n",
      "121393\n",
      "196418\n",
      "317811\n",
      "514229\n",
      "832040\n",
      "1346269\n",
      "2178309\n",
      "3524578\n",
      "5702887\n",
      "9227465\n",
      "14930352\n",
      "24157817\n",
      "39088169\n",
      "63245986\n"
     ]
    }
   ],
   "source": [
    "def fib (n): \n",
    "    if( n == 0):\n",
    "        return 0\n",
    "    else:\n",
    "        x = 0\n",
    "        y = 1\n",
    "        for i in range(1,n):\n",
    "            z = (x + y)\n",
    "            x = y\n",
    "            y = z\n",
    "        return y\n",
    "\n",
    "for i in range(40):\n",
    "    print (fib(i))"
   ]
  },
  {
   "cell_type": "code",
   "execution_count": 10,
   "metadata": {},
   "outputs": [
    {
     "name": "stdout",
     "output_type": "stream",
     "text": [
      "Enter a number: 23\n",
      "23 is a prime number\n"
     ]
    }
   ],
   "source": [
    "num = int(input(\"Enter a number: \"))  \n",
    "  \n",
    "if num > 1:  \n",
    "    for i in range(2,num):  \n",
    "        if (num % i) == 0:   \n",
    "            print(num,\"is not a prime number\")   \n",
    "            break\n",
    "    else:  \n",
    "        print(num,\"is a prime number\")  \n",
    "         \n",
    "else:  \n",
    "    print(num,\"is not a prime number\")  "
   ]
  },
  {
   "cell_type": "code",
   "execution_count": 12,
   "metadata": {},
   "outputs": [
    {
     "name": "stdout",
     "output_type": "stream",
     "text": [
      "enter a number6\n",
      "1\n",
      "2\n",
      "3\n",
      "6\n"
     ]
    }
   ],
   "source": [
    "num=int(input(\"enter a number\"))\n",
    "factors=[]\n",
    "for i in range(1,num+1):\n",
    "    if num%i==0:\n",
    "        print(i)"
   ]
  },
  {
   "cell_type": "markdown",
   "metadata": {},
   "source": [
    "# LAB 5"
   ]
  },
  {
   "cell_type": "code",
   "execution_count": 13,
   "metadata": {},
   "outputs": [
    {
     "name": "stdout",
     "output_type": "stream",
     "text": [
      " Please enter the number of each type of videos to be borrowed3\n",
      "No. of New videos5\n",
      "No. of oldies3\n",
      "Total Cost -->   21\n"
     ]
    }
   ],
   "source": [
    "input(\" Please enter the number of each type of videos to be borrowed\")\n",
    "new_v = int(input(\"No. of New videos\"))\n",
    "old_v = int(input(\"No. of oldies\"))\n",
    "totalCost = new_v * 3 + old_v * 2\n",
    "print(\"Total Cost --> \", end = \"  \")\n",
    "print(totalCost)"
   ]
  },
  {
   "cell_type": "code",
   "execution_count": 14,
   "metadata": {},
   "outputs": [
    {
     "ename": "SyntaxError",
     "evalue": "invalid syntax (<ipython-input-14-bf4427dab609>, line 6)",
     "output_type": "error",
     "traceback": [
      "\u001b[0;36m  File \u001b[0;32m\"<ipython-input-14-bf4427dab609>\"\u001b[0;36m, line \u001b[0;32m6\u001b[0m\n\u001b[0;31m    if Maths >= 60 and Phy >= 50 and Chem >= 40 and ( (Maths+Phy+Chem)>= 200  or (maths+Phy) >= 150):\u001b[0m\n\u001b[0m                                                                                                    ^\u001b[0m\n\u001b[0;31mSyntaxError\u001b[0m\u001b[0;31m:\u001b[0m invalid syntax\n"
     ]
    }
   ],
   "source": [
    "input(\" Please enter the marks obtained in maths, physics and chem\")\n",
    "Phy = int(input(\"Phy marks\"))\n",
    "Chem  = int(input(\"Chem marks\"))\n",
    "Maths = int(input(\" Math marks\")\n",
    "\n",
    "if Maths >= 60 and Phy >= 50 and Chem >= 40 and ( (Maths+Phy+Chem)>= 200  or (maths+Phy) >= 150):\n",
    "  print(\"Eligible for admission\")\n",
    "else:\n",
    "  print(\" Not eligible\")"
   ]
  },
  {
   "cell_type": "markdown",
   "metadata": {},
   "source": [
    "# LAB 6"
   ]
  },
  {
   "cell_type": "code",
   "execution_count": 1,
   "metadata": {},
   "outputs": [
    {
     "name": "stdout",
     "output_type": "stream",
     "text": [
      "4\n",
      "5\n",
      "3\n",
      "YES\n"
     ]
    }
   ],
   "source": [
    "a,b,c=int(input()),int(input()),int(input())\n",
    "a,b,c=sorted([a,b,c])\n",
    "if a**2 + b**2 == c**2:\n",
    "    print(\"YES\")\n",
    "else:\n",
    "    print(\"NO\")"
   ]
  },
  {
   "cell_type": "code",
   "execution_count": 2,
   "metadata": {},
   "outputs": [
    {
     "name": "stdout",
     "output_type": "stream",
     "text": [
      " Enter the number of initial organisims200\n",
      " Enter the growth rate 2\n",
      " Enter the experimental time5\n",
      " Enter the total expiremental time12\n",
      "400\n",
      "800\n",
      "1600\n"
     ]
    }
   ],
   "source": [
    "ini = int (input(\" Enter the number of initial organisims\"))\n",
    "rate_growth = int(input( \" Enter the growth rate \"))\n",
    "expi_time = int(input(\" Enter the experimental time\"))\n",
    "ttime = int(input(\" Enter the total expiremental time\"))\n",
    "\n",
    "n_times = ttime/expi_time\t\n",
    "total_org = ini\n",
    "while(n_times > 0):\n",
    "    total_org = total_org * rate_growth\n",
    "    n_times = n_times -1\n",
    "    print(total_org)  "
   ]
  },
  {
   "cell_type": "markdown",
   "metadata": {},
   "source": [
    "# Lab7"
   ]
  },
  {
   "cell_type": "code",
   "execution_count": 5,
   "metadata": {},
   "outputs": [
    {
     "ename": "IndentationError",
     "evalue": "unexpected indent (<ipython-input-5-cae5b453ea51>, line 21)",
     "output_type": "error",
     "traceback": [
      "\u001b[0;36m  File \u001b[0;32m\"<ipython-input-5-cae5b453ea51>\"\u001b[0;36m, line \u001b[0;32m21\u001b[0m\n\u001b[0;31m    st_bal = end_bal\u001b[0m\n\u001b[0m    ^\u001b[0m\n\u001b[0;31mIndentationError\u001b[0m\u001b[0;31m:\u001b[0m unexpected indent\n"
     ]
    }
   ],
   "source": [
    "in_amt = int(input(\" Pl enter the investment amount\"))\n",
    "years = int(input(\" Enter the number of years\"))\n",
    "rate =   int(input(\" Enter the rate\"))\n",
    "i= 1\n",
    "print(\" Year    Sart Balance     Intrest    End balance\")\n",
    "year = 1\n",
    "st_bal = in_amt\n",
    "intrest = rate/100 * in_amt\n",
    "print(intrest)\n",
    "end_bal = st_bal + intrest\n",
    "print(end_bal)\n",
    "t_int = 0\n",
    "while i<=5:  \n",
    " # print(st_bal intrest end_bal )\n",
    "  i = i+1\n",
    "\n",
    "print(\" Ending Balance \", end = \"  \")\n",
    "print(end_bal)\n",
    "print(\" Total intrest \", end = \" \")\n",
    "print(t_int)\n",
    "    st_bal = end_bal\n",
    "     intrest = rate/100*st_bal\n",
    "    end_bal = st_bal +rate  \n",
    "    t_int = t_int + intrest\n"
   ]
  },
  {
   "cell_type": "code",
   "execution_count": 15,
   "metadata": {},
   "outputs": [
    {
     "name": "stdout",
     "output_type": "stream",
     "text": [
      "56\n"
     ]
    }
   ],
   "source": [
    "def max_of_two( x, y ):\n",
    "    if x > y:\n",
    "        return x\n",
    "    return y\n",
    "def max_of_three( x, y, z ):\n",
    "    return max_of_two( x, max_of_two( y, z ) )\n",
    "\n",
    "print(max_of_three(3,56,2))"
   ]
  },
  {
   "cell_type": "markdown",
   "metadata": {},
   "source": [
    "# Lab 9 "
   ]
  },
  {
   "cell_type": "code",
   "execution_count": 16,
   "metadata": {},
   "outputs": [
    {
     "name": "stdout",
     "output_type": "stream",
     "text": [
      "Sammy is being awesome.\n",
      "Stevie is swimming.\n"
     ]
    }
   ],
   "source": [
    "class Shark:\n",
    "    def __init__(self, name):\n",
    "        self.name = name\n",
    "\n",
    "    def swim(self):\n",
    "        print(self.name + \" is swimming.\")\n",
    "\n",
    "    def be_awesome(self):\n",
    "        print(self.name + \" is being awesome.\")\n",
    "\n",
    "def main():\n",
    "    sammy = Shark(\"Sammy\")\n",
    "    sammy.be_awesome()\n",
    "    stevie = Shark(\"Stevie\")\n",
    "    stevie.swim()\n",
    "\n",
    "if __name__ == \"__main__\":\n",
    "    main()"
   ]
  },
  {
   "cell_type": "code",
   "execution_count": 8,
   "metadata": {},
   "outputs": [
    {
     "name": "stdout",
     "output_type": "stream",
     "text": [
      " customer: Alex account initial details\n",
      "0.0\n",
      " customer: Alex account details after deposit\n",
      "190.0\n",
      " Customer 2 details\n",
      "200\n"
     ]
    }
   ],
   "source": [
    "class BankAccount:\n",
    "    def __init__(self, name, balance=0.00):\n",
    "        self.name = name\n",
    "        self.balance = balance\n",
    "\n",
    "    def deposit(self, amount):\n",
    "        \"\"\"make a deposit\"\"\"\n",
    "        self.balance += amount\n",
    "\n",
    "    def withdraw(self, amount):\n",
    "        \"\"\"make a withdraw\"\"\"\n",
    "        if amount > self.balance:\n",
    "            raise ValueError(\"insufficient funds\")\n",
    "        self.balance -= amount\n",
    "\n",
    "    def get_balance(self): #are accessor methods needed in Python?\n",
    "        \"\"\"check the balance\"\"\"\n",
    "        return self.balance\n",
    "\n",
    "def main():\n",
    "    customer1 = BankAccount('Alex')\n",
    "    print(\" customer: Alex account initial details\")\n",
    "    print(customer1.get_balance())\n",
    "    print(\" customer: Alex account details after deposit\")\n",
    "    customer1.deposit(200)\n",
    "    customer1.withdraw(10)\n",
    "    print(customer1.get_balance())\n",
    "\n",
    "    customer2 = BankAccount('Sam', 200)\n",
    "    print( \" Customer 2 details\")\n",
    "    print(customer2.get_balance())\n",
    "    \n",
    "if __name__ == \"__main__\":\n",
    "    main()"
   ]
  },
  {
   "cell_type": "code",
   "execution_count": 9,
   "metadata": {},
   "outputs": [
    {
     "name": "stdout",
     "output_type": "stream",
     "text": [
      "car braking  with 5 doors and 4 tires\n",
      "I'm driving a blue car!\n",
      "I'm driving a red truck!\n",
      "truck braking  with 3 doors and 6 tires\n"
     ]
    }
   ],
   "source": [
    "class Vehicle(object):\n",
    "    \"\"\"docstring\"\"\"\n",
    "\n",
    "    def __init__(self, color, doors, tires, vtype):\n",
    "        \"\"\"Constructor\"\"\"\n",
    "        self.color = color\n",
    "        self.doors = doors\n",
    "        self.tires = tires\n",
    "        self.vtype = vtype\n",
    "\n",
    "    def brake(self):\n",
    "        \"\"\"\n",
    "        Stop the car\n",
    "        \"\"\"\n",
    "        return \"%s braking  with %s doors and %s tires\" % (self.vtype, self.doors, self.tires)\n",
    "\n",
    "    def drive(self):\n",
    "        \"\"\"\n",
    "        Drive the car\n",
    "        \"\"\"\n",
    "        return \"I'm driving a %s %s!\" % (self.color, self.vtype)\n",
    "\n",
    "if __name__ == \"__main__\":\n",
    "    car = Vehicle(\"blue\", 5, 4, \"car\")\n",
    "    print(car.brake())\n",
    "    print(car.drive())\n",
    "\n",
    "\n",
    "    truck = Vehicle(\"red\", 3, 6, \"truck\")\n",
    "    print(truck.drive())\n",
    "    print(truck.brake())\n",
    "    "
   ]
  },
  {
   "cell_type": "code",
   "execution_count": null,
   "metadata": {},
   "outputs": [],
   "source": []
  }
 ],
 "metadata": {
  "kernelspec": {
   "display_name": "Python 3",
   "language": "python",
   "name": "python3"
  },
  "language_info": {
   "codemirror_mode": {
    "name": "ipython",
    "version": 3
   },
   "file_extension": ".py",
   "mimetype": "text/x-python",
   "name": "python",
   "nbconvert_exporter": "python",
   "pygments_lexer": "ipython3",
   "version": "3.7.4"
  }
 },
 "nbformat": 4,
 "nbformat_minor": 2
}
