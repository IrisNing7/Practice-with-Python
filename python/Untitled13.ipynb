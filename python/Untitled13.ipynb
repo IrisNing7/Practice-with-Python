{
 "cells": [
  {
   "cell_type": "code",
   "execution_count": 1,
   "metadata": {},
   "outputs": [
    {
     "name": "stdout",
     "output_type": "stream",
     "text": [
      "       10.00       10.00       90.00\n",
      "        9.00       11.00       79.00\n",
      "        7.90       12.10       66.90\n",
      "        6.69       13.31       53.59\n",
      "        5.36       14.64       38.95\n",
      "        3.89       16.11       22.84\n",
      "        2.28       17.72        5.13\n",
      "        0.51        5.13        0.00\n"
     ]
    }
   ],
   "source": [
    "# Prints out an amortization table\n",
    "def print_loan_table(amount, payment, annual_rate):\n",
    "    balance = amount\n",
    "    monthly_rate = annual_rate / 12.0\n",
    "\n",
    "    while payment <= balance + balance * monthly_rate:\n",
    "        interest = balance * monthly_rate\n",
    "        principal = payment - interest\n",
    "        balance = balance - principal\n",
    "        print (\"%12.2f%12.2f%12.2f\" % (interest, principal, balance))\n",
    "\n",
    "    # print last line\n",
    "    interest = balance * monthly_rate\n",
    "    print (\"%12.2f%12.2f%12.2f\" % (interest, balance, 0))\n",
    "print_loan_table(100, 20, 1.2)"
   ]
  },
  {
   "cell_type": "code",
   "execution_count": null,
   "metadata": {},
   "outputs": [],
   "source": []
  }
 ],
 "metadata": {
  "kernelspec": {
   "display_name": "Python 3",
   "language": "python",
   "name": "python3"
  },
  "language_info": {
   "codemirror_mode": {
    "name": "ipython",
    "version": 3
   },
   "file_extension": ".py",
   "mimetype": "text/x-python",
   "name": "python",
   "nbconvert_exporter": "python",
   "pygments_lexer": "ipython3",
   "version": "3.7.4"
  }
 },
 "nbformat": 4,
 "nbformat_minor": 2
}
