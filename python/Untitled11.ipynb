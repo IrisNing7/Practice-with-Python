{
 "cells": [
  {
   "cell_type": "code",
   "execution_count": 3,
   "metadata": {},
   "outputs": [
    {
     "name": "stdout",
     "output_type": "stream",
     "text": [
      "4\n"
     ]
    }
   ],
   "source": [
    "x= 5 \n",
    "y= 4 \n",
    "if x > y: \n",
    "   print(y) \n",
    "else: \n",
    "   print(x) "
   ]
  },
  {
   "cell_type": "code",
   "execution_count": 1,
   "metadata": {},
   "outputs": [
    {
     "name": "stdout",
     "output_type": "stream",
     "text": [
      "5 4 3 2 "
     ]
    }
   ],
   "source": [
    "count = 5 \n",
    "while count > 1: \n",
    "  print(count, end = \" \") \n",
    "  count -= 1 "
   ]
  },
  {
   "cell_type": "code",
   "execution_count": 2,
   "metadata": {},
   "outputs": [
    {
     "ename": "IndentationError",
     "evalue": "unindent does not match any outer indentation level (<tokenize>, line 7)",
     "output_type": "error",
     "traceback": [
      "\u001b[0;36m  File \u001b[0;32m\"<tokenize>\"\u001b[0;36m, line \u001b[0;32m7\u001b[0m\n\u001b[0;31m    theSum += float(number)\u001b[0m\n\u001b[0m    ^\u001b[0m\n\u001b[0;31mIndentationError\u001b[0m\u001b[0;31m:\u001b[0m unindent does not match any outer indentation level\n"
     ]
    }
   ],
   "source": [
    "theSum = 0.0 \n",
    "\n",
    "while True: \n",
    " number = input(\"Enter a number: \") \n",
    "    if number == \"\":\n",
    "        break \n",
    "     theSum += float(number) "
   ]
  },
  {
   "cell_type": "code",
   "execution_count": 6,
   "metadata": {},
   "outputs": [
    {
     "ename": "IndentationError",
     "evalue": "unindent does not match any outer indentation level (<tokenize>, line 7)",
     "output_type": "error",
     "traceback": [
      "\u001b[0;36m  File \u001b[0;32m\"<tokenize>\"\u001b[0;36m, line \u001b[0;32m7\u001b[0m\n\u001b[0;31m    theSum += number\u001b[0m\n\u001b[0m    ^\u001b[0m\n\u001b[0;31mIndentationError\u001b[0m\u001b[0;31m:\u001b[0m unindent does not match any outer indentation level\n"
     ]
    }
   ],
   "source": [
    "theSum = 0.0 \n",
    "while True: \n",
    "  number = input(\"Enter a number: \") \n",
    "if number == \"\":\n",
    "    break \n",
    "    numbers = float(data)\n",
    "  theSum += number\n",
    " print(\"The sum is\", theSum)"
   ]
  },
  {
   "cell_type": "code",
   "execution_count": 4,
   "metadata": {},
   "outputs": [
    {
     "ename": "IndentationError",
     "evalue": "unindent does not match any outer indentation level (<tokenize>, line 7)",
     "output_type": "error",
     "traceback": [
      "\u001b[0;36m  File \u001b[0;32m\"<tokenize>\"\u001b[0;36m, line \u001b[0;32m7\u001b[0m\n\u001b[0;31m    theSum += float(number)\u001b[0m\n\u001b[0m    ^\u001b[0m\n\u001b[0;31mIndentationError\u001b[0m\u001b[0;31m:\u001b[0m unindent does not match any outer indentation level\n"
     ]
    }
   ],
   "source": [
    "theSum = 0.0 \n",
    "\n",
    "while True: \n",
    "   number = input(\"Enter a number: \") \n",
    "      if number == \"\":\n",
    "          break \n",
    "     theSum += float(number) "
   ]
  },
  {
   "cell_type": "code",
   "execution_count": 5,
   "metadata": {},
   "outputs": [
    {
     "name": "stdout",
     "output_type": "stream",
     "text": [
      "x: x\n"
     ]
    },
    {
     "ename": "ValueError",
     "evalue": "invalid literal for int() with base 10: 'x'",
     "output_type": "error",
     "traceback": [
      "\u001b[0;31m---------------------------------------------------------------------------\u001b[0m",
      "\u001b[0;31mValueError\u001b[0m                                Traceback (most recent call last)",
      "\u001b[0;32m<ipython-input-5-355f83395dd4>\u001b[0m in \u001b[0;36m<module>\u001b[0;34m\u001b[0m\n\u001b[1;32m      1\u001b[0m \u001b[0;31m# print(\"Input lengths of the triangle sides: \")\u001b[0m\u001b[0;34m\u001b[0m\u001b[0;34m\u001b[0m\u001b[0;34m\u001b[0m\u001b[0m\n\u001b[1;32m      2\u001b[0m \u001b[0;34m\u001b[0m\u001b[0m\n\u001b[0;32m----> 3\u001b[0;31m \u001b[0mx\u001b[0m \u001b[0;34m=\u001b[0m \u001b[0mint\u001b[0m\u001b[0;34m(\u001b[0m\u001b[0minput\u001b[0m\u001b[0;34m(\u001b[0m\u001b[0;34m\"x: \"\u001b[0m\u001b[0;34m)\u001b[0m\u001b[0;34m)\u001b[0m\u001b[0;34m\u001b[0m\u001b[0;34m\u001b[0m\u001b[0m\n\u001b[0m\u001b[1;32m      4\u001b[0m \u001b[0;34m\u001b[0m\u001b[0m\n\u001b[1;32m      5\u001b[0m \u001b[0my\u001b[0m \u001b[0;34m=\u001b[0m \u001b[0mint\u001b[0m\u001b[0;34m(\u001b[0m\u001b[0minput\u001b[0m\u001b[0;34m(\u001b[0m\u001b[0;34m\"y: \"\u001b[0m\u001b[0;34m)\u001b[0m\u001b[0;34m)\u001b[0m\u001b[0;34m\u001b[0m\u001b[0;34m\u001b[0m\u001b[0m\n",
      "\u001b[0;31mValueError\u001b[0m: invalid literal for int() with base 10: 'x'"
     ]
    }
   ],
   "source": [
    "# print(\"Input lengths of the triangle sides: \")\n",
    " \n",
    "x = int(input(\"x: \"))\n",
    " \n",
    "y = int(input(\"y: \"))\n",
    " \n",
    "z = int(input(\"z: \"))\n",
    " \n",
    "if x == y == z:\n",
    " \n",
    "    print(\"Equilateral triangle\")\n",
    " \n",
    "else:\n",
    " \n",
    "    print(\"Not Equilateral triangle\")"
   ]
  },
  {
   "cell_type": "code",
   "execution_count": 5,
   "metadata": {},
   "outputs": [
    {
     "name": "stdout",
     "output_type": "stream",
     "text": [
      "x: 3\n",
      "y: 4\n",
      "z: 5\n",
      "Not Equilateral triangle\n"
     ]
    }
   ],
   "source": [
    "# print(\"Input lengths of the triangle sides: \")\n",
    " \n",
    "x = int(input(\"x: \"))\n",
    " \n",
    "y = int(input(\"y: \"))\n",
    " \n",
    "z = int(input(\"z: \"))\n",
    " \n",
    "if x == y == z:\n",
    " \n",
    "    print(\"Equilateral triangle\")\n",
    " \n",
    "else:\n",
    " \n",
    "    print(\"Not Equilateral triangle\")"
   ]
  },
  {
   "cell_type": "code",
   "execution_count": 9,
   "metadata": {},
   "outputs": [
    {
     "name": "stdout",
     "output_type": "stream",
     "text": [
      "x: 4\n",
      "y: 5\n",
      "z: 6\n",
      "Not a right triangle\n"
     ]
    }
   ],
   "source": [
    "# print(\"Input lengths of the triangle sides: \")\n",
    " \n",
    "x = int(input(\"x: \"))\n",
    " \n",
    "y = int(input(\"y: \"))\n",
    " \n",
    "z = int(input(\"z: \"))\n",
    " \n",
    "if (x**2 + y**2) == z**2:\n",
    " \n",
    "    print(\"It's a right triangle\")\n",
    " \n",
    "else:\n",
    " \n",
    "    print(\"Not a right triangle\")"
   ]
  },
  {
   "cell_type": "code",
   "execution_count": 1,
   "metadata": {},
   "outputs": [
    {
     "name": "stdout",
     "output_type": "stream",
     "text": [
      "Enter an initial number: 100\n",
      "Enter a number [a real number > 0]: 3\n",
      "Enter a number of hours to achieve the rate of growth: 3\n",
      "Enter the total hours of growth: 10\n",
      "The total population is  2700\n"
     ]
    }
   ],
   "source": [
    "Standard_Organisms=int(input(\"Enter an initial number: \"))\n",
    "\n",
    "Growth_Rate=int(input(\"Enter a number [a real number > 0]: \"))\n",
    "\n",
    "Num_of_Hours=int(input(\"Enter a number of hours to achieve the rate of growth: \"))\n",
    "\n",
    "Total_Hours=int(input(\"Enter the total hours of growth: \"))\n",
    "\n",
    "Total_Organisms=Standard_Organisms*Growth_Rate**(Total_Hours//Num_of_Hours)\n",
    "    \n",
    "print(\"The total population is \",Total_Organisms) "
   ]
  },
  {
   "cell_type": "code",
   "execution_count": 5,
   "metadata": {},
   "outputs": [
    {
     "ename": "IndentationError",
     "evalue": "unindent does not match any outer indentation level (<tokenize>, line 7)",
     "output_type": "error",
     "traceback": [
      "\u001b[0;36m  File \u001b[0;32m\"<tokenize>\"\u001b[0;36m, line \u001b[0;32m7\u001b[0m\n\u001b[0;31m    theSum += float(number)\u001b[0m\n\u001b[0m    ^\u001b[0m\n\u001b[0;31mIndentationError\u001b[0m\u001b[0;31m:\u001b[0m unindent does not match any outer indentation level\n"
     ]
    }
   ],
   "source": [
    "theSum = 0.0 \n",
    "\n",
    "while True: \n",
    "      number = input(\"Enter a number: \") \n",
    "          if number == \"\":\n",
    "            break \n",
    "        theSum += float(number) "
   ]
  },
  {
   "cell_type": "code",
   "execution_count": 8,
   "metadata": {},
   "outputs": [
    {
     "name": "stdout",
     "output_type": "stream",
     "text": [
      "Enter a number: 1\n",
      "Enter a number: 2\n",
      "Enter a number: 3\n",
      "Enter a number: 4\n",
      "Enter a number: 5\n",
      "Enter a number: 6\n",
      "Enter a number: 7\n",
      "Enter a number: 8\n",
      "Enter a number: 9\n",
      "Enter a number: \n"
     ]
    }
   ],
   "source": [
    "theSum = 0.0 \n",
    "while True: \n",
    "    number = input(\"Enter a number: \") \n",
    "    if number == \"\":\n",
    "        break \n",
    "        theSum += float(number) \n"
   ]
  },
  {
   "cell_type": "code",
   "execution_count": 9,
   "metadata": {},
   "outputs": [
    {
     "ename": "SyntaxError",
     "evalue": "invalid syntax (<ipython-input-9-2695033aa6ed>, line 1)",
     "output_type": "error",
     "traceback": [
      "\u001b[0;36m  File \u001b[0;32m\"<ipython-input-9-2695033aa6ed>\"\u001b[0;36m, line \u001b[0;32m1\u001b[0m\n\u001b[0;31m    thisdict{\u001b[0m\n\u001b[0m            ^\u001b[0m\n\u001b[0;31mSyntaxError\u001b[0m\u001b[0;31m:\u001b[0m invalid syntax\n"
     ]
    }
   ],
   "source": [
    "thisdict{\n",
    "    \"full name\": \"YUEYING NING\"\n",
    "    \"MIT ID\": \"MIT191358\"\n",
    "    \"Email address\": \"irisning7@gmail.com\"\n",
    "    \"units enrolled\": \"MIT\"\n",
    "    \"Overall grades\": \"70\"\n",
    "}\n",
    "del "
   ]
  },
  {
   "cell_type": "code",
   "execution_count": 6,
   "metadata": {},
   "outputs": [
    {
     "ename": "SyntaxError",
     "evalue": "invalid syntax (<ipython-input-6-b816fba7d47d>, line 6)",
     "output_type": "error",
     "traceback": [
      "\u001b[0;36m  File \u001b[0;32m\"<ipython-input-6-b816fba7d47d>\"\u001b[0;36m, line \u001b[0;32m6\u001b[0m\n\u001b[0;31m    $ cat mydetails.txt\u001b[0m\n\u001b[0m    ^\u001b[0m\n\u001b[0;31mSyntaxError\u001b[0m\u001b[0;31m:\u001b[0m invalid syntax\n"
     ]
    }
   ],
   "source": [
    "file=open(\"mydetails.txt\",\"w\")\n",
    "\n",
    "file.write(\"YUEYING_NING\")\n",
    "file.close()\n",
    "\n",
    "$ cat mydetails.txt"
   ]
  },
  {
   "cell_type": "code",
   "execution_count": 1,
   "metadata": {},
   "outputs": [
    {
     "ename": "SyntaxError",
     "evalue": "invalid syntax (<ipython-input-1-dada39a62137>, line 7)",
     "output_type": "error",
     "traceback": [
      "\u001b[0;36m  File \u001b[0;32m\"<ipython-input-1-dada39a62137>\"\u001b[0;36m, line \u001b[0;32m7\u001b[0m\n\u001b[0;31m    else:\u001b[0m\n\u001b[0m       ^\u001b[0m\n\u001b[0;31mSyntaxError\u001b[0m\u001b[0;31m:\u001b[0m invalid syntax\n"
     ]
    }
   ],
   "source": [
    "def encrypt(text,message):\n",
    "    message = mwssage.lower()\n",
    "    alpha = \"abcdefghijklmnopqrstuvwxyz\"\n",
    "    for letter in message:\n",
    "         if letter in alpha: \n",
    "            else:\n",
    "            result = result + letter"
   ]
  },
  {
   "cell_type": "code",
   "execution_count": 17,
   "metadata": {},
   "outputs": [
    {
     "name": "stdout",
     "output_type": "stream",
     "text": [
      "enter text: xyz\n",
      "enter value: 2\n"
     ]
    },
    {
     "ename": "UnboundLocalError",
     "evalue": "local variable 'cipherValue' referenced before assignment",
     "output_type": "error",
     "traceback": [
      "\u001b[0;31m---------------------------------------------------------------------------\u001b[0m",
      "\u001b[0;31mUnboundLocalError\u001b[0m                         Traceback (most recent call last)",
      "\u001b[0;32m<ipython-input-17-f029ac2b8767>\u001b[0m in \u001b[0;36m<module>\u001b[0;34m\u001b[0m\n\u001b[1;32m     11\u001b[0m     \u001b[0;32mreturn\u001b[0m \u001b[0mplainText\u001b[0m\u001b[0;34m\u001b[0m\u001b[0;34m\u001b[0m\u001b[0m\n\u001b[1;32m     12\u001b[0m \u001b[0;34m\u001b[0m\u001b[0m\n\u001b[0;32m---> 13\u001b[0;31m \u001b[0mprint\u001b[0m\u001b[0;34m(\u001b[0m\u001b[0mcipher\u001b[0m\u001b[0;34m(\u001b[0m\u001b[0mtext\u001b[0m\u001b[0;34m,\u001b[0m \u001b[0mdistance\u001b[0m\u001b[0;34m)\u001b[0m\u001b[0;34m)\u001b[0m\u001b[0;34m\u001b[0m\u001b[0;34m\u001b[0m\u001b[0m\n\u001b[0m",
      "\u001b[0;32m<ipython-input-17-f029ac2b8767>\u001b[0m in \u001b[0;36mcipher\u001b[0;34m(text, distance)\u001b[0m\n\u001b[1;32m      6\u001b[0m         \u001b[0mordvalue\u001b[0m \u001b[0;34m=\u001b[0m \u001b[0mord\u001b[0m\u001b[0;34m(\u001b[0m\u001b[0mch\u001b[0m\u001b[0;34m)\u001b[0m\u001b[0;34m\u001b[0m\u001b[0;34m\u001b[0m\u001b[0m\n\u001b[1;32m      7\u001b[0m         \u001b[0mciphervalue\u001b[0m \u001b[0;34m=\u001b[0m \u001b[0mordvalue\u001b[0m \u001b[0;34m+\u001b[0m \u001b[0mdistance\u001b[0m\u001b[0;34m\u001b[0m\u001b[0;34m\u001b[0m\u001b[0m\n\u001b[0;32m----> 8\u001b[0;31m         \u001b[0;32mif\u001b[0m \u001b[0mcipherValue\u001b[0m \u001b[0;34m>\u001b[0m \u001b[0mord\u001b[0m\u001b[0;34m(\u001b[0m\u001b[0;34m'z'\u001b[0m\u001b[0;34m)\u001b[0m\u001b[0;34m:\u001b[0m\u001b[0;34m\u001b[0m\u001b[0;34m\u001b[0m\u001b[0m\n\u001b[0m\u001b[1;32m      9\u001b[0m             \u001b[0mcipherValue\u001b[0m \u001b[0;34m=\u001b[0m \u001b[0mordvalue\u001b[0m \u001b[0;34m+\u001b[0m \u001b[0mdistance\u001b[0m \u001b[0;34m-\u001b[0m \u001b[0;36m26\u001b[0m\u001b[0;34m\u001b[0m\u001b[0;34m\u001b[0m\u001b[0m\n\u001b[1;32m     10\u001b[0m         \u001b[0mplainText\u001b[0m \u001b[0;34m+=\u001b[0m \u001b[0mchr\u001b[0m\u001b[0;34m(\u001b[0m\u001b[0mciphervalue\u001b[0m\u001b[0;34m)\u001b[0m\u001b[0;34m\u001b[0m\u001b[0;34m\u001b[0m\u001b[0m\n",
      "\u001b[0;31mUnboundLocalError\u001b[0m: local variable 'cipherValue' referenced before assignment"
     ]
    }
   ],
   "source": [
    "text = input(\"enter text: \")\n",
    "distance = int(input(\"enter value: \"))\n",
    "def cipher(text, distance):\n",
    "    plainText = \"\"\n",
    "    for ch in text:\n",
    "        ordvalue = ord(ch)\n",
    "        ciphervalue = ordvalue + distance\n",
    "        if cipherValue > ord('z'):\n",
    "            cipherValue = ordvalue + distance - 26\n",
    "        plainText += chr(ciphervalue)\n",
    "    return plainText\n",
    "\n",
    "print(cipher(text, distance))"
   ]
  },
  {
   "cell_type": "code",
   "execution_count": null,
   "metadata": {},
   "outputs": [],
   "source": []
  }
 ],
 "metadata": {
  "kernelspec": {
   "display_name": "Python 3",
   "language": "python",
   "name": "python3"
  },
  "language_info": {
   "codemirror_mode": {
    "name": "ipython",
    "version": 3
   },
   "file_extension": ".py",
   "mimetype": "text/x-python",
   "name": "python",
   "nbconvert_exporter": "python",
   "pygments_lexer": "ipython3",
   "version": "3.7.4"
  }
 },
 "nbformat": 4,
 "nbformat_minor": 2
}
