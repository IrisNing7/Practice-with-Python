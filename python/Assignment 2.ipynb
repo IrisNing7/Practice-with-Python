{
 "cells": [
  {
   "cell_type": "markdown",
   "metadata": {},
   "source": [
    "# Validity of Password"
   ]
  },
  {
   "cell_type": "code",
   "execution_count": 13,
   "metadata": {},
   "outputs": [
    {
     "name": "stdout",
     "output_type": "stream",
     "text": [
      "Enter your username: Yueying Ning\n",
      "Enter your password: Mit191358daj@98ha\n",
      "Not a Valid Password \n",
      "Maximum length of transaction password is 12 \n"
     ]
    }
   ],
   "source": [
    "import re\n",
    "def verify(): \n",
    "    UserName = input(\"Enter your username: \")\n",
    "    p = input(\"Enter your password: \")\n",
    "    if not re.search(\"[a-z]\",p):\n",
    "        print(\"Not a Valid Password \\nAt least 1 letter between [a-z] \")\n",
    "    elif not re.search(\"[0-9]\",p):\n",
    "        print(\"Not a Valid Password \\nAt least 1 number between [0-9] \")\n",
    "    elif not re.search(\"[A-Z]\",p):\n",
    "        print(\"Not a Valid Password \\nAt least 1 letter between [A-Z] \")\n",
    "    elif not re.search(\"[$#@]\",p):\n",
    "        print(\"Not a Valid Password \\nAt least 1 character from [$#@] \")\n",
    "    elif len(p)<6 :\n",
    "        print(\"Not a Valid Password \\nMinimum length of transaction password is 6 \")\n",
    "    elif len(p)>12:\n",
    "        print(\"Not a Valid Password \\nMaximum length of transaction password is 12 \")\n",
    "    else:\n",
    "        print(\"Valid Password\")\n",
    "verify()       "
   ]
  },
  {
   "cell_type": "markdown",
   "metadata": {},
   "source": [
    "# Encryption"
   ]
  },
  {
   "cell_type": "code",
   "execution_count": 2,
   "metadata": {},
   "outputs": [
    {
     "name": "stdout",
     "output_type": "stream",
     "text": [
      "Re-enter the Valid Password you have entered before: ahfQ3726@#\n",
      "Enter your DOB as DDMMYYYY: 01012020\n",
      "Add all the digits of your DOB: 6\n",
      "gnlW9382@#\n"
     ]
    }
   ],
   "source": [
    "Password = input(\"Re-enter the Valid Password you have entered before: \")\n",
    "DOB = int(input(\"Enter your DOB as DDMMYYYY: \"))\n",
    "SumDigits = int(input(\"Add all the digits of your DOB: \"))\n",
    "distance = SumDigits % 26\n",
    "def cipher(EncryptedText, distance):\n",
    "    EncryptedText = \"\"\n",
    "    for symbol in Password:\n",
    "        if symbol.isnumeric():\n",
    "            num = ord(symbol)\n",
    "            num += distance\n",
    "            \n",
    "            if num > ord(\"9\"):\n",
    "                num -= 10\n",
    "            if num < ord(\"0\"):\n",
    "                num += 10\n",
    "            \n",
    "            EncryptedText += chr(num)\n",
    "            \n",
    "        elif symbol.isalpha():\n",
    "            num = ord(symbol)\n",
    "            num += distance\n",
    "\n",
    "            if symbol.isupper():\n",
    "                if num > ord('Z'):\n",
    "                    num -= 26\n",
    "                elif num < ord('A'):\n",
    "                    num += 26\n",
    "            elif symbol.islower():\n",
    "                if num > ord('z'):\n",
    "                    num -= 26\n",
    "                elif num < ord('a'):\n",
    "                    num += 26  \n",
    "                    \n",
    "            EncryptedText += chr(num)\n",
    "        else:\n",
    "            EncryptedText += symbol\n",
    "            \n",
    "    return EncryptedText\n",
    "\n",
    "print(cipher(Password, distance))       "
   ]
  },
  {
   "cell_type": "markdown",
   "metadata": {},
   "source": [
    "# Store Username and Encrypted Password"
   ]
  },
  {
   "cell_type": "code",
   "execution_count": 5,
   "metadata": {},
   "outputs": [
    {
     "name": "stdout",
     "output_type": "stream",
     "text": [
      "Enter your username: Yueying Ning\n",
      "Enter the Encrypted Password:Tpa868025@\n",
      "Yueying Ning Tpa868025@\n"
     ]
    }
   ],
   "source": [
    "file = open(\"MIT191358.txt\",\"w\")\n",
    "file.write(input(\"Enter your username: \")  + ' ') \n",
    "# + \" \" is used to add space between username and password\n",
    "file.write(input(\"Enter the Encrypted Password:\"))\n",
    "file = open(\"MIT191358.txt\",\"r\")\n",
    "text = file.read()\n",
    "print(text)"
   ]
  },
  {
   "cell_type": "markdown",
   "metadata": {},
   "source": [
    "# Decryption and Password Reveal Option"
   ]
  },
  {
   "cell_type": "code",
   "execution_count": 3,
   "metadata": {},
   "outputs": [
    {
     "name": "stdout",
     "output_type": "stream",
     "text": [
      "Enter your username: Yueying Ning\n",
      "Enter your Encrypted Password: Tpa868025@\n",
      "Enter your sumdigits you have entered before: 33\n",
      "Do you want to print your password?: No\n",
      "Yueying Ning\n",
      "********\n"
     ]
    }
   ],
   "source": [
    "UserName = input(\"Enter your username: \") \n",
    "EncryptedPassword = input(\"Enter your Encrypted Password: \")\n",
    "SumDigits = int(input(\"Enter your sumdigits you have entered before: \"))\n",
    "distance = SumDigits % 26\n",
    "def decrypt(DecryptedText, distance):\n",
    "    DecryptedText = \"\"\n",
    "    for symbol in EncryptedPassword:\n",
    "        if symbol.isnumeric():\n",
    "            num = ord(symbol)\n",
    "            num -= distance\n",
    "            \n",
    "            if num < ord(\"0\"):\n",
    "                num += 10\n",
    "            \n",
    "            DecryptedText += chr(num)\n",
    "            \n",
    "        elif symbol.isalpha():\n",
    "            num = ord(symbol)\n",
    "            num -= distance\n",
    "\n",
    "            if symbol.isupper():\n",
    "                if num < ord('A'):\n",
    "                    num += 26\n",
    "            elif symbol.islower():\n",
    "                if num < ord('a'):\n",
    "                    num += 26  \n",
    "                    \n",
    "            DecryptedText += chr(num)\n",
    "        else:\n",
    "            DecryptedText += symbol\n",
    "            \n",
    "    return DecryptedText\n",
    "\n",
    "def reveal():\n",
    "    reveal = input(\"Do you want to print your password?: \")\n",
    "    \n",
    "    if reveal == \"Yes\":\n",
    "        print(UserName)\n",
    "        print(decrypt(EncryptedPassword,distance))\n",
    "    \n",
    "    elif reveal == \"No\":\n",
    "        print(UserName)\n",
    "        print(\"*\"*8)  #8 is the length of *\n",
    "        \n",
    "reveal()      "
   ]
  },
  {
   "cell_type": "code",
   "execution_count": null,
   "metadata": {},
   "outputs": [],
   "source": []
  }
 ],
 "metadata": {
  "kernelspec": {
   "display_name": "Python 3",
   "language": "python",
   "name": "python3"
  },
  "language_info": {
   "codemirror_mode": {
    "name": "ipython",
    "version": 3
   },
   "file_extension": ".py",
   "mimetype": "text/x-python",
   "name": "python",
   "nbconvert_exporter": "python",
   "pygments_lexer": "ipython3",
   "version": "3.7.4"
  }
 },
 "nbformat": 4,
 "nbformat_minor": 2
}
