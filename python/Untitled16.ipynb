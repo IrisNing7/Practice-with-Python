{
 "cells": [
  {
   "cell_type": "code",
   "execution_count": 1,
   "metadata": {},
   "outputs": [
    {
     "name": "stdout",
     "output_type": "stream",
     "text": [
      "2\n",
      "4\n"
     ]
    }
   ],
   "source": [
    "def absolute_value(num):\n",
    "\tif num >= 0:\n",
    "\t\treturn num\n",
    "\telse:\n",
    "\t\treturn -num\n",
    "\n",
    "print(absolute_value(2))\n",
    "print(absolute_value(-4))"
   ]
  },
  {
   "cell_type": "code",
   "execution_count": 7,
   "metadata": {},
   "outputs": [
    {
     "name": "stdout",
     "output_type": "stream",
     "text": [
      "lower Bound : 1\n",
      " Upper bound:  9\n",
      "45\n"
     ]
    }
   ],
   "source": [
    "def summation (lower, upper):\n",
    "    \"\"\"Arguments: A lower bound and an upper bound Returns: \n",
    "    the sum of the numbers from lower through upper \"\"\" \n",
    "    result = 0 \n",
    "    while lower <= upper:\n",
    "        result += lower \n",
    "        lower += 1\n",
    "        \n",
    "    return result\n",
    "        \n",
    "       \n",
    "lower = int(input('lower Bound : ' ))  \n",
    "upper = int(input(' Upper bound:  '))\n",
    "print(summation(lower,upper) )      "
   ]
  },
  {
   "cell_type": "code",
   "execution_count": null,
   "metadata": {},
   "outputs": [],
   "source": []
  }
 ],
 "metadata": {
  "kernelspec": {
   "display_name": "Python 3",
   "language": "python",
   "name": "python3"
  },
  "language_info": {
   "codemirror_mode": {
    "name": "ipython",
    "version": 3
   },
   "file_extension": ".py",
   "mimetype": "text/x-python",
   "name": "python",
   "nbconvert_exporter": "python",
   "pygments_lexer": "ipython3",
   "version": "3.7.4"
  }
 },
 "nbformat": 4,
 "nbformat_minor": 2
}
