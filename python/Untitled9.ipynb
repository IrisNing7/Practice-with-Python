{
 "cells": [
  {
   "cell_type": "code",
   "execution_count": 2,
   "metadata": {},
   "outputs": [
    {
     "name": "stdout",
     "output_type": "stream",
     "text": [
      "22 years\n"
     ]
    }
   ],
   "source": [
    "from datetime import date \n",
    "  \n",
    "def calculateAge(birthDate): \n",
    "    today = date.today() \n",
    "    age = today.year - birthDate.year - ((today.month, today.day) < (birthDate.month, birthDate.day)) \n",
    "  \n",
    "    return age \n",
    "      \n",
    "# Driver code  \n",
    "print(calculateAge(date(1997, 2, 3)), \"years\")  "
   ]
  },
  {
   "cell_type": "code",
   "execution_count": 3,
   "metadata": {},
   "outputs": [
    {
     "name": "stdout",
     "output_type": "stream",
     "text": [
      "22 years\n"
     ]
    }
   ],
   "source": [
    "from datetime import date \n",
    "  \n",
    "def calculateAge(born): \n",
    "    today = date.today() \n",
    "    try:  \n",
    "        birthday = born.replace(year = today.year) \n",
    "  \n",
    "    # raised when birth date is February 29 \n",
    "    # and the current year is not a leap year \n",
    "    except ValueError:  \n",
    "        birthday = born.replace(year = today.year, \n",
    "                  month = born.month + 1, day = 1) \n",
    "  \n",
    "    if birthday > today: \n",
    "        return today.year - born.year - 1\n",
    "    else: \n",
    "        return today.year - born.year \n",
    "          \n",
    "# Driver code \n",
    "print(calculateAge(date(1997, 2, 3)), \"years\")"
   ]
  },
  {
   "cell_type": "code",
   "execution_count": null,
   "metadata": {},
   "outputs": [],
   "source": []
  }
 ],
 "metadata": {
  "kernelspec": {
   "display_name": "Python 3",
   "language": "python",
   "name": "python3"
  },
  "language_info": {
   "codemirror_mode": {
    "name": "ipython",
    "version": 3
   },
   "file_extension": ".py",
   "mimetype": "text/x-python",
   "name": "python",
   "nbconvert_exporter": "python",
   "pygments_lexer": "ipython3",
   "version": "3.7.4"
  }
 },
 "nbformat": 4,
 "nbformat_minor": 2
}
