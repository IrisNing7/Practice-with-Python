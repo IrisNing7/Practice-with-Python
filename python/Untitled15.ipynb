{
 "cells": [
  {
   "cell_type": "code",
   "execution_count": 4,
   "metadata": {},
   "outputs": [
    {
     "name": "stdout",
     "output_type": "stream",
     "text": [
      "Enter text: hello world\n",
      "Enter key value: 7\n",
      "olssv'dvysk\n"
     ]
    }
   ],
   "source": [
    "Text = input(\"Enter text: \")\n",
    "distance = int(input(\"Enter key value: \"))\n",
    "def cipher(plainText, distance):\n",
    "    plainText = \"\"\n",
    "    for ch in Text:\n",
    "        ordvalue = ord(ch)\n",
    "        ciphervalue = ordvalue + distance\n",
    "        if ciphervalue > ord('z'):\n",
    "            ciphervalue = ordvalue + distance - 26\n",
    "        plainText += chr(ciphervalue)\n",
    "    return plainText\n",
    "\n",
    "print(cipher(Text, distance))"
   ]
  },
  {
   "cell_type": "code",
   "execution_count": 13,
   "metadata": {},
   "outputs": [
    {
     "name": "stdout",
     "output_type": "stream",
     "text": [
      "My name is YUEYING NING.\n",
      " My student ID is MIT191358.\n",
      " My address is 681 Chapel Street.\n",
      " My enroll unitcodes are MN404,MN405 and MN501.\n"
     ]
    }
   ],
   "source": [
    "file = open(\"mydetails.txt\",\"w\")\n",
    "file.write(\"My name is YUEYING NING.\\n My student ID is MIT191358.\\n My address is 681 Chapel Street.\\n My enroll unitcodes are MN404,MN405 and MN501.\")\n",
    "file.close()\n",
    "file = open(\"mydetails.txt\", \"r\")\n",
    "text = file.read()\n",
    "print(text)"
   ]
  },
  {
   "cell_type": "code",
   "execution_count": 14,
   "metadata": {},
   "outputs": [
    {
     "name": "stdout",
     "output_type": "stream",
     "text": [
      "My name is YUEYING NING.\n",
      " My student ID is MIT191358.\n",
      " My address is 681 Chapel Street.\n",
      " My enroll unitcodes are MN404,MN405 and MN501.\n"
     ]
    }
   ],
   "source": [
    "file1 = open(\"backup.txt\",\"w\")\n",
    "file1.write(text)\n",
    "file1.close()\n",
    "file1 = open(\"backup.txt\",\"r\")\n",
    "text1 = file1.read()\n",
    "print(text1)"
   ]
  },
  {
   "cell_type": "code",
   "execution_count": 31,
   "metadata": {},
   "outputs": [
    {
     "name": "stdout",
     "output_type": "stream",
     "text": [
      "Enter the investment amount: 10000\n",
      "Enter the number of years: 5\n",
      "Enter the rate as a %: 5\n",
      "1 10000.0 500.0 10500.0\n",
      "2 10500.0 525.0 11025.0\n",
      "3 11025.0 551.25 11576.25\n",
      "4 11576.25 578.81 12155.06\n",
      "5 12155.06 607.75 12762.81\n",
      "Ending balance is $12762.82\n",
      "Total interest earned is $2762.82\n"
     ]
    }
   ],
   "source": [
    "StartingBalance = float(input(\"Enter the investment amount: \"))\n",
    "Years = int(input(\"Enter the number of years: \"))\n",
    "Rate = int(input(\"Enter the rate as a %: \"))\n",
    "Rate = Rate / 100\n",
    "Ending_Balance = round(StartingBalance * (1+Rate) ** Years,2)\n",
    "TotalInterestEarned = round(Ending_Balance - StartingBalance,2)\n",
    "for Year in range(1, Years+1):\n",
    "    if Year == 1:\n",
    "        StartingBalance = round(StartingBalance,2)\n",
    "        Interest = round(StartingBalance * Rate,2)\n",
    "        EndingBalance = round(StartingBalance + Interest,2)\n",
    "        print(Year,StartingBalance,Interest,EndingBalance)\n",
    "    else:      \n",
    "        StartingBalance = round(EndingBalance,2)\n",
    "        Interest = round(StartingBalance * Rate,2)\n",
    "        EndingBalance = round(StartingBalance + Interest,2)\n",
    "        print(Year,StartingBalance,Interest,EndingBalance)\n",
    "print('Ending balance is ${}'.format(Ending_Balance))\n",
    "print(\"Total interest earned is ${}\".format(TotalInterestEarned))"
   ]
  },
  {
   "cell_type": "code",
   "execution_count": null,
   "metadata": {},
   "outputs": [],
   "source": []
  }
 ],
 "metadata": {
  "kernelspec": {
   "display_name": "Python 3",
   "language": "python",
   "name": "python3"
  },
  "language_info": {
   "codemirror_mode": {
    "name": "ipython",
    "version": 3
   },
   "file_extension": ".py",
   "mimetype": "text/x-python",
   "name": "python",
   "nbconvert_exporter": "python",
   "pygments_lexer": "ipython3",
   "version": "3.7.4"
  }
 },
 "nbformat": 4,
 "nbformat_minor": 2
}
