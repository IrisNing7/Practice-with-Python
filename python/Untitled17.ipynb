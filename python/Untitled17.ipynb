{
 "cells": [
  {
   "cell_type": "code",
   "execution_count": 1,
   "metadata": {},
   "outputs": [
    {
     "name": "stdout",
     "output_type": "stream",
     "text": [
      "Mikey is 6 years old\n",
      "Mikey says Gruff Gruff\n"
     ]
    }
   ],
   "source": [
    "class Dog:\n",
    "\n",
    "    # Class Attribute\n",
    "    species = 'mammal'\n",
    "\n",
    "    # Initializer / Instance Attributes\n",
    "    def __init__(self, name, age):\n",
    "        self.name = name\n",
    "        self.age = age\n",
    "\n",
    "    # instance method\n",
    "    def description(self):\n",
    "        return \"{} is {} years old\".format(self.name, self.age)\n",
    "\n",
    "    # instance method\n",
    "    def speak(self, sound):\n",
    "        return \"{} says {}\".format(self.name, sound)\n",
    "\n",
    "# Instantiate the Dog object\n",
    "mikey = Dog(\"Mikey\", 6)\n",
    "\n",
    "# call our instance methods\n",
    "print(mikey.description())\n",
    "print(mikey.speak(\"Gruff Gruff\"))"
   ]
  },
  {
   "cell_type": "code",
   "execution_count": 11,
   "metadata": {},
   "outputs": [
    {
     "ename": "TypeError",
     "evalue": "Bank_Account() takes no arguments",
     "output_type": "error",
     "traceback": [
      "\u001b[0;31m---------------------------------------------------------------------------\u001b[0m",
      "\u001b[0;31mTypeError\u001b[0m                                 Traceback (most recent call last)",
      "\u001b[0;32m<ipython-input-11-bdb949b3be0a>\u001b[0m in \u001b[0;36m<module>\u001b[0;34m\u001b[0m\n\u001b[1;32m     24\u001b[0m \u001b[0;34m\u001b[0m\u001b[0m\n\u001b[1;32m     25\u001b[0m \u001b[0;31m# creating an object of class\u001b[0m\u001b[0;34m\u001b[0m\u001b[0;34m\u001b[0m\u001b[0;34m\u001b[0m\u001b[0m\n\u001b[0;32m---> 26\u001b[0;31m \u001b[0ms\u001b[0m \u001b[0;34m=\u001b[0m \u001b[0mBank_Account\u001b[0m\u001b[0;34m(\u001b[0m\u001b[0;34m\"Iris\"\u001b[0m\u001b[0;34m,\u001b[0m\u001b[0;36m123456\u001b[0m\u001b[0;34m)\u001b[0m\u001b[0;34m\u001b[0m\u001b[0;34m\u001b[0m\u001b[0m\n\u001b[0m\u001b[1;32m     27\u001b[0m \u001b[0;34m\u001b[0m\u001b[0m\n\u001b[1;32m     28\u001b[0m \u001b[0;31m# Calling functions with that class object\u001b[0m\u001b[0;34m\u001b[0m\u001b[0;34m\u001b[0m\u001b[0;34m\u001b[0m\u001b[0m\n",
      "\u001b[0;31mTypeError\u001b[0m: Bank_Account() takes no arguments"
     ]
    }
   ],
   "source": [
    "# To create a Bank Account\n",
    "class Bank_Account:\n",
    "    def _initial_(self,name,accNum,accType,balance=0.00):\n",
    "        self.name = name\n",
    "        self.accNum = accNum\n",
    "        self.accType = accType\n",
    "        self.balance = balance\n",
    "            \n",
    "# To make a deposit\n",
    "    def deposit(self):\n",
    "        self.balance += amount\n",
    "        return amount\n",
    "        \n",
    "#To check Balance\n",
    "    def checkBalance(self,amount):\n",
    "        return amount\n",
    "    \n",
    "# To make a withdraw\n",
    "    def withdraw(self):\n",
    "        self.balance -= amount\n",
    "        return amount\n",
    "\n",
    "# Driver code\n",
    "\n",
    "# creating an object of class \n",
    "s = Bank_Account(\"Iris\",123456) \n",
    "   \n",
    "# Calling functions with that class object \n",
    "print(s.deposit())\n",
    "print(s.withdraw())  "
   ]
  },
  {
   "cell_type": "code",
   "execution_count": 8,
   "metadata": {},
   "outputs": [
    {
     "name": "stdout",
     "output_type": "stream",
     "text": [
      "first name = Doug\n",
      "last name = Purcell\n",
      "account number = 3628902828\n",
      "account balance = 0\n",
      "deposit = 20\n",
      "recent transaction is: 20\n",
      "account balance = 20\n",
      "withdrawal = Your withdrawal amount is $50 which exceeds your account limit! You have:\n",
      "$20. Your withdrawal limit is 500\n",
      "recent transaction is = None\n",
      "account balance = 20\n",
      "deposit = 500\n",
      "withdrawal = Your withdrawal amount is $891 which exceeds your account limit! You have:\n",
      "$520. Your withdrawal limit is 500\n",
      "recent transaction is = 500\n",
      "withdrawal = 49\n",
      "recent transaction is = -49\n"
     ]
    }
   ],
   "source": [
    "class BankAccount:\n",
    "    \"\"\"A class example in python that models a bank account\"\"\"\n",
    "    def __init__(self, first_name, last_name, account_num, balance=0):\n",
    "        self.first_name = first_name\n",
    "        self.last_name = last_name\n",
    "        self.account_num = account_num\n",
    "        self.balance = balance\n",
    "        self.transactions = []\n",
    "    def deposit(self, amount):\n",
    "        self.balance += amount\n",
    "        self.transactions.append(+amount)\n",
    "        return amount\n",
    "    def withdrawal(self, amount, limit=500):\n",
    "        if self.balance - amount > 0 and amount <= limit:\n",
    "            self.balance -= amount\n",
    "            self.transactions.append(-amount)\n",
    "            return amount\n",
    "        else:\n",
    "            return 'Your withdrawal amount is ${} which exceeds your account limit! You have:' \\\n",
    "                   '\\n${}. Your withdrawal limit is {}'.format(amount, self.balance, limit)\n",
    "    def get_first_name(self):\n",
    "        return self.first_name\n",
    "    def get_last_name(self):\n",
    "        return self.last_name\n",
    "    def get_account_num(self):\n",
    "        return self.account_num\n",
    "    def get_balance(self):\n",
    "        return self.balance\n",
    "    def recent_transactions(self):\n",
    "        if len(self.transactions) < 1:\n",
    "            return None\n",
    "        else:\n",
    "            return self.transactions.pop()\n",
    "a = BankAccount('Doug', 'Purcell', 3628902828)\n",
    "print('first name =', a.get_first_name())\n",
    "print('last name =', a.get_last_name())\n",
    "print('account number =', a.get_account_num())\n",
    "print('account balance =', a.get_balance())\n",
    "print('deposit =', a.deposit(20))\n",
    "print('recent transaction is:', a.recent_transactions())\n",
    "print('account balance =', a.get_balance())\n",
    "print('withdrawal =', a.withdrawal(50))\n",
    "print('recent transaction is =', a.recent_transactions())\n",
    "print('account balance =', a.get_balance())\n",
    "print('deposit =', a.deposit(500))\n",
    "print('withdrawal =', a.withdrawal(891))\n",
    "print('recent transaction is =', a.recent_transactions())\n",
    "print('withdrawal =', a.withdrawal(49))\n",
    "print('recent transaction is =', a.recent_transactions())"
   ]
  },
  {
   "cell_type": "code",
   "execution_count": 2,
   "metadata": {},
   "outputs": [
    {
     "name": "stdout",
     "output_type": "stream",
     "text": [
      "Enter amount to be Deposited: 500\n",
      "\n",
      " Amount Deposited: 500.0\n",
      "Enter amount to be Withdrawn: 20\n",
      "\n",
      " Your Withdraw: 20.0\n"
     ]
    }
   ],
   "source": [
    "class Bank_Account: \n",
    "    def __init__(self): \n",
    "        self.balance=0\n",
    "  \n",
    "    def deposit(self): \n",
    "        amount=float(input(\"Enter amount to be Deposited: \")) \n",
    "        self.balance += amount \n",
    "        print(\"\\n Amount Deposited:\",amount) \n",
    "  \n",
    "    def withdraw(self): \n",
    "        amount = float(input(\"Enter amount to be Withdrawn: \")) \n",
    "        if self.balance>=amount: \n",
    "            self.balance-=amount \n",
    "            print(\"\\n Your Withdraw:\", amount) \n",
    "        else: \n",
    "            print(\"\\n Insufficient balance  \") \n",
    "  \n",
    "# Driver code \n",
    "   \n",
    "# creating an object of class \n",
    "s = Bank_Account() \n",
    "   \n",
    "# Calling functions with that class object \n",
    "s.deposit() \n",
    "s.withdraw() "
   ]
  },
  {
   "cell_type": "code",
   "execution_count": null,
   "metadata": {},
   "outputs": [],
   "source": []
  }
 ],
 "metadata": {
  "kernelspec": {
   "display_name": "Python 3",
   "language": "python",
   "name": "python3"
  },
  "language_info": {
   "codemirror_mode": {
    "name": "ipython",
    "version": 3
   },
   "file_extension": ".py",
   "mimetype": "text/x-python",
   "name": "python",
   "nbconvert_exporter": "python",
   "pygments_lexer": "ipython3",
   "version": "3.7.4"
  }
 },
 "nbformat": 4,
 "nbformat_minor": 2
}
