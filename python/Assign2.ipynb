{
 "cells": [
  {
   "cell_type": "code",
   "execution_count": 37,
   "metadata": {},
   "outputs": [
    {
     "name": "stdout",
     "output_type": "stream",
     "text": [
      "Input your passwordMit489708#\n",
      "Valid Password\n"
     ]
    }
   ],
   "source": [
    "import re\n",
    "def verify(): \n",
    "    p = input(\"Input your password\")\n",
    "    if not re.search(\"[a-z]\",p):\n",
    "        print(\"At least 1 letter between [a-z]: \")\n",
    "    elif not re.search(\"[0-9]\",p):\n",
    "        print(\"At least 1 number between [0-9]: \")\n",
    "    elif not re.search(\"[A-Z]\",p):\n",
    "        print(\"At least 1 letter between [A-Z]: \")\n",
    "    elif not re.search(\"[$#@]\",p):\n",
    "        print(\"At least 1 character from [$#@]: \")\n",
    "    elif len(p)<6 :\n",
    "        print(\"Minimum length of transaction password is 6: \")\n",
    "    elif len(p)>12:\n",
    "        print(\"Maximum length of transaction password is 12: \")\n",
    "    else:\n",
    "        print(\"Valid Password\")\n",
    "verify()       "
   ]
  },
  {
   "cell_type": "code",
   "execution_count": 39,
   "metadata": {},
   "outputs": [
    {
     "name": "stdout",
     "output_type": "stream",
     "text": [
      "Enter the valid password Mit489708#\n",
      "Tpa;?@>7?*\n"
     ]
    }
   ],
   "source": [
    "Text = input(\"Enter the valid password \")\n",
    "distance = 1+9+9+2+1+2+2+7-26\n",
    "def cipher(plainText, distance):\n",
    "    plainText = \"\"\n",
    "    for ch in Text:\n",
    "        ordvalue = ord(ch)\n",
    "        ciphervalue = ordvalue + distance\n",
    "        if ciphervalue > ord('z'):\n",
    "            ciphervalue = ordvalue + distance - 26\n",
    "        plainText += chr(ciphervalue)\n",
    "    return plainText\n",
    "\n",
    "print(cipher(Text, distance))       "
   ]
  },
  {
   "cell_type": "code",
   "execution_count": null,
   "metadata": {},
   "outputs": [],
   "source": []
  }
 ],
 "metadata": {
  "kernelspec": {
   "display_name": "Python 3",
   "language": "python",
   "name": "python3"
  },
  "language_info": {
   "codemirror_mode": {
    "name": "ipython",
    "version": 3
   },
   "file_extension": ".py",
   "mimetype": "text/x-python",
   "name": "python",
   "nbconvert_exporter": "python",
   "pygments_lexer": "ipython3",
   "version": "3.7.4"
  }
 },
 "nbformat": 4,
 "nbformat_minor": 2
}
